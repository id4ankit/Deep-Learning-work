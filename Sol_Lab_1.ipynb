{
 "cells": [
  {
   "cell_type": "markdown",
   "id": "7aeeb1ca",
   "metadata": {},
   "source": [
    "# Training"
   ]
  },
  {
   "cell_type": "markdown",
   "id": "47283b95",
   "metadata": {},
   "source": [
    "# Data is reading from drive"
   ]
  },
  {
   "cell_type": "code",
   "execution_count": 1,
   "id": "62fe5b90",
   "metadata": {},
   "outputs": [],
   "source": [
    "#2023H1030076P_Lab_1"
   ]
  },
  {
   "cell_type": "code",
   "execution_count": 2,
   "id": "6412a80b",
   "metadata": {},
   "outputs": [
    {
     "data": {
      "text/html": [
       "<div>\n",
       "<style scoped>\n",
       "    .dataframe tbody tr th:only-of-type {\n",
       "        vertical-align: middle;\n",
       "    }\n",
       "\n",
       "    .dataframe tbody tr th {\n",
       "        vertical-align: top;\n",
       "    }\n",
       "\n",
       "    .dataframe thead th {\n",
       "        text-align: right;\n",
       "    }\n",
       "</style>\n",
       "<table border=\"1\" class=\"dataframe\">\n",
       "  <thead>\n",
       "    <tr style=\"text-align: right;\">\n",
       "      <th></th>\n",
       "      <th>x</th>\n",
       "      <th>y</th>\n",
       "    </tr>\n",
       "  </thead>\n",
       "  <tbody>\n",
       "    <tr>\n",
       "      <th>0</th>\n",
       "      <td>24</td>\n",
       "      <td>21.549452</td>\n",
       "    </tr>\n",
       "    <tr>\n",
       "      <th>1</th>\n",
       "      <td>50</td>\n",
       "      <td>47.464463</td>\n",
       "    </tr>\n",
       "    <tr>\n",
       "      <th>2</th>\n",
       "      <td>15</td>\n",
       "      <td>17.218656</td>\n",
       "    </tr>\n",
       "    <tr>\n",
       "      <th>3</th>\n",
       "      <td>38</td>\n",
       "      <td>36.586398</td>\n",
       "    </tr>\n",
       "    <tr>\n",
       "      <th>4</th>\n",
       "      <td>87</td>\n",
       "      <td>87.288984</td>\n",
       "    </tr>\n",
       "  </tbody>\n",
       "</table>\n",
       "</div>"
      ],
      "text/plain": [
       "    x          y\n",
       "0  24  21.549452\n",
       "1  50  47.464463\n",
       "2  15  17.218656\n",
       "3  38  36.586398\n",
       "4  87  87.288984"
      ]
     },
     "execution_count": 2,
     "metadata": {},
     "output_type": "execute_result"
    }
   ],
   "source": [
    "import numpy as np\n",
    "import pandas as pd\n",
    "df = pd.read_csv(r\"D:\\DL lab\\Labsheet_1\\train.csv\")\n",
    "df.head()"
   ]
  },
  {
   "cell_type": "code",
   "execution_count": 3,
   "id": "89da955b",
   "metadata": {},
   "outputs": [
    {
     "name": "stdout",
     "output_type": "stream",
     "text": [
      "      x          y\n",
      "0    24  21.549452\n",
      "1    50  47.464463\n",
      "2    15  17.218656\n",
      "3    38  36.586398\n",
      "4    87  87.288984\n",
      "..   ..        ...\n",
      "694  58  58.595006\n",
      "695  93  94.625094\n",
      "696  82  88.603770\n",
      "697  66  63.648685\n",
      "698  97  94.975266\n",
      "\n",
      "[699 rows x 2 columns]\n"
     ]
    }
   ],
   "source": [
    "print(df)"
   ]
  },
  {
   "cell_type": "code",
   "execution_count": 4,
   "id": "e503b51d",
   "metadata": {},
   "outputs": [
    {
     "data": {
      "text/plain": [
       "Index(['x', 'y'], dtype='object')"
      ]
     },
     "execution_count": 4,
     "metadata": {},
     "output_type": "execute_result"
    }
   ],
   "source": [
    "df.columns"
   ]
  },
  {
   "cell_type": "code",
   "execution_count": 5,
   "id": "2548b565",
   "metadata": {},
   "outputs": [],
   "source": [
    "df.columns = [0,1]"
   ]
  },
  {
   "cell_type": "code",
   "execution_count": 6,
   "id": "45667b82",
   "metadata": {},
   "outputs": [
    {
     "name": "stdout",
     "output_type": "stream",
     "text": [
      "Zeros in 0 is: 8\n",
      "Zeros in 1 is: 0\n"
     ]
    }
   ],
   "source": [
    "# Finding number of zeroes in all columns\n",
    "for column_name in df.columns:\n",
    "    column = df[column_name]\n",
    "    # counting zeros in column\n",
    "    count = (column == 0).sum()\n",
    "    print('Zeros in', column_name, 'is:', count)"
   ]
  },
  {
   "cell_type": "code",
   "execution_count": 7,
   "id": "9708a340",
   "metadata": {},
   "outputs": [
    {
     "name": "stdout",
     "output_type": "stream",
     "text": [
      "Count of NaN in column  0  is :  0\n",
      "Count of NaN in column  1  is :  0\n"
     ]
    }
   ],
   "source": [
    "# Count number of nan in all columns of Dataframe\n",
    "for column_name in df.columns:\n",
    "    column = df[column_name]\n",
    "    # Get the count of nan in column\n",
    "    count = sum(pd.isnull(column))\n",
    "    print('Count of NaN in column ', column_name, ' is : ', count)"
   ]
  },
  {
   "cell_type": "code",
   "execution_count": 8,
   "id": "8a94c028",
   "metadata": {},
   "outputs": [],
   "source": [
    "# replace 0 with nan\n",
    "df[0] = df[0].replace(0, np.nan)\n",
    "df[1] = df[1].replace(0, np.nan)"
   ]
  },
  {
   "cell_type": "code",
   "execution_count": 9,
   "id": "c82088f4",
   "metadata": {},
   "outputs": [
    {
     "data": {
      "text/plain": [
       "8"
      ]
     },
     "execution_count": 9,
     "metadata": {},
     "output_type": "execute_result"
    }
   ],
   "source": [
    "# Finding number of rows with missing values\n",
    "df.isnull().any(axis=1).sum()"
   ]
  },
  {
   "cell_type": "code",
   "execution_count": 10,
   "id": "874d600f",
   "metadata": {},
   "outputs": [
    {
     "name": "stdout",
     "output_type": "stream",
     "text": [
      "(691, 2)\n"
     ]
    }
   ],
   "source": [
    "# drop row if missing value present in that row\n",
    "df_dropped = df.dropna()\n",
    "print(df_dropped.shape)"
   ]
  },
  {
   "cell_type": "code",
   "execution_count": 11,
   "id": "7354645a",
   "metadata": {},
   "outputs": [
    {
     "name": "stdout",
     "output_type": "stream",
     "text": [
      "691\n"
     ]
    }
   ],
   "source": [
    "# count number of rows\n",
    "count_row = df_dropped.shape[0]\n",
    "print(count_row)"
   ]
  },
  {
   "cell_type": "code",
   "execution_count": 12,
   "id": "6a55cb3b",
   "metadata": {},
   "outputs": [
    {
     "name": "stdout",
     "output_type": "stream",
     "text": [
      "            0         1\n",
      "0    0.232323  0.225260\n",
      "1    0.494949  0.455183\n",
      "2    0.141414  0.186836\n",
      "3    0.373737  0.358671\n",
      "4    0.868687  0.808515\n",
      "..        ...       ...\n",
      "694  0.575758  0.553936\n",
      "695  0.929293  0.873602\n",
      "696  0.818182  0.820180\n",
      "697  0.656566  0.598773\n",
      "698  0.969697  0.876709\n",
      "\n",
      "[691 rows x 2 columns]\n"
     ]
    }
   ],
   "source": [
    "# copy the data\n",
    "df_min_max_scaled = df_dropped.copy()\n",
    "\n",
    "# apply normalization techniques\n",
    "for column in df_dropped.columns:\n",
    "    df_min_max_scaled[column] = (df_min_max_scaled[column] - df_min_max_scaled[column].min()) / (df_min_max_scaled[column].max() - df_min_max_scaled[column].min())\n",
    "\n",
    "# view normalized data\n",
    "print(df_min_max_scaled)"
   ]
  },
  {
   "cell_type": "code",
   "execution_count": 13,
   "id": "3b5754f4",
   "metadata": {},
   "outputs": [],
   "source": [
    "theta = [0,0]"
   ]
  },
  {
   "cell_type": "code",
   "execution_count": 14,
   "id": "eb2a4874",
   "metadata": {},
   "outputs": [],
   "source": [
    "def hypothesis(theta, X):\n",
    "    return theta[0] + theta[1]*X"
   ]
  },
  {
   "cell_type": "code",
   "execution_count": 15,
   "id": "893fc94a",
   "metadata": {},
   "outputs": [],
   "source": [
    "m = len(df)     #Calculate the number of training data as the length of the DataFrame.\n",
    "def cost_calc(theta, X, y):\n",
    "    return (1/2*m) * np.sum((hypothesis(theta, X) - y)**2)"
   ]
  },
  {
   "cell_type": "code",
   "execution_count": 16,
   "id": "a207bfe2",
   "metadata": {},
   "outputs": [],
   "source": [
    "def gradient_descent(theta, X, y, epoch, alpha):\n",
    "    cost = []\n",
    "    i = 0\n",
    "    while i < epoch:\n",
    "        hx = hypothesis(theta, X)\n",
    "        theta[0] -= alpha*(np.sum(hx-y)/m)\n",
    "        theta[1] -= (alpha * np.sum((hx - y) * X))/m\n",
    "        cost.append(cost_calc(theta, X, y))\n",
    "        i += 1\n",
    "    return theta, cost"
   ]
  },
  {
   "cell_type": "code",
   "execution_count": 17,
   "id": "466f929b",
   "metadata": {},
   "outputs": [],
   "source": [
    "def predict(theta, X, y, epoch, alpha):\n",
    "    theta, cost = gradient_descent(theta, X, y, epoch, alpha)\n",
    "    return hypothesis(theta, X), cost, theta"
   ]
  },
  {
   "cell_type": "code",
   "execution_count": 18,
   "id": "6c079efe",
   "metadata": {},
   "outputs": [
    {
     "name": "stdout",
     "output_type": "stream",
     "text": [
      "[0.04251478192518813, 0.8779502565329209]\n"
     ]
    }
   ],
   "source": [
    "y_predict, cost, theta_f = predict(theta, df_min_max_scaled[0], df_min_max_scaled[1], 10000, 0.01)\n",
    "print(theta_f)"
   ]
  },
  {
   "cell_type": "code",
   "execution_count": 19,
   "id": "d1e887c5",
   "metadata": {},
   "outputs": [
    {
     "name": "stdout",
     "output_type": "stream",
     "text": [
      "0.04251478192518813 0.8779502565329209\n"
     ]
    }
   ],
   "source": [
    "print(theta_f[0],theta_f[1])\n"
   ]
  },
  {
   "cell_type": "code",
   "execution_count": 20,
   "id": "c8c97c87",
   "metadata": {},
   "outputs": [
    {
     "data": {
      "image/png": "[encoded data removed]",
      "text/plain": [
       "<Figure size 640x480 with 1 Axes>"
      ]
     },
     "metadata": {},
     "output_type": "display_data"
    }
   ],
   "source": [
    "%matplotlib inline\n",
    "import matplotlib.pyplot as plt\n",
    "plt.figure()\n",
    "plt.scatter(df_min_max_scaled[0], df_min_max_scaled[1], label = 'Original y')\n",
    "plt.scatter(df_min_max_scaled[0], y_predict, label = 'predicted y')\n",
    "plt.legend(loc = \"upper left\")\n",
    "plt.xlabel(\"input feature\")\n",
    "plt.ylabel(\"Original and Predicted Output\")\n",
    "plt.title(\"Training\")\n",
    "plt.show()"
   ]
  },
  {
   "cell_type": "code",
   "execution_count": 21,
   "id": "c19ab258",
   "metadata": {},
   "outputs": [
    {
     "data": {
      "image/png": "[encoded data removed]",
      "text/plain": [
       "<Figure size 640x480 with 1 Axes>"
      ]
     },
     "metadata": {},
     "output_type": "display_data"
    }
   ],
   "source": [
    "plt.figure()\n",
    "plt.scatter(range(0, len(cost)), cost)\n",
    "plt.title(\"Cost Function\")\n",
    "plt.xlabel(\"iterations\")\n",
    "plt.ylabel(\"Cost\")\n",
    "plt.show()"
   ]
  },
  {
   "cell_type": "code",
   "execution_count": 22,
   "id": "944926dd",
   "metadata": {},
   "outputs": [],
   "source": [
    "def r_squared(y_true, y_pred):\n",
    "    y_mean = np.mean(y_true)\n",
    "    ss_total = np.sum((y_true - y_mean)**2)\n",
    "    ss_residual = np.sum((y_true - y_pred)**2)\n",
    "    r2 = 1 - (ss_residual / ss_total)\n",
    "    return r2"
   ]
  },
  {
   "cell_type": "code",
   "execution_count": 23,
   "id": "c4f9be67",
   "metadata": {},
   "outputs": [
    {
     "name": "stdout",
     "output_type": "stream",
     "text": [
      "R-squared: 0.9904138540462569\n"
     ]
    }
   ],
   "source": [
    "r2_score = r_squared(df_min_max_scaled[1], y_predict)\n",
    "print(\"R-squared:\", r2_score)"
   ]
  },
  {
   "cell_type": "markdown",
   "id": "df695f2d",
   "metadata": {},
   "source": [
    "# Test  perform on the  parameter got from training  theta_0  and Theta_1\n"
   ]
  },
  {
   "cell_type": "markdown",
   "id": "10e472cb",
   "metadata": {},
   "source": [
    "# Data is reading from drive"
   ]
  },
  {
   "cell_type": "code",
   "execution_count": 24,
   "id": "114b7db5",
   "metadata": {},
   "outputs": [],
   "source": [
    "df_test = pd.read_csv(r\"D:\\DL lab\\Labsheet_1\\test.csv\")"
   ]
  },
  {
   "cell_type": "code",
   "execution_count": 25,
   "id": "8a8e9cfb",
   "metadata": {},
   "outputs": [
    {
     "data": {
      "text/html": [
       "<div>\n",
       "<style scoped>\n",
       "    .dataframe tbody tr th:only-of-type {\n",
       "        vertical-align: middle;\n",
       "    }\n",
       "\n",
       "    .dataframe tbody tr th {\n",
       "        vertical-align: top;\n",
       "    }\n",
       "\n",
       "    .dataframe thead th {\n",
       "        text-align: right;\n",
       "    }\n",
       "</style>\n",
       "<table border=\"1\" class=\"dataframe\">\n",
       "  <thead>\n",
       "    <tr style=\"text-align: right;\">\n",
       "      <th></th>\n",
       "      <th>x</th>\n",
       "      <th>y</th>\n",
       "    </tr>\n",
       "  </thead>\n",
       "  <tbody>\n",
       "    <tr>\n",
       "      <th>0</th>\n",
       "      <td>77</td>\n",
       "      <td>79.775152</td>\n",
       "    </tr>\n",
       "    <tr>\n",
       "      <th>1</th>\n",
       "      <td>21</td>\n",
       "      <td>23.177279</td>\n",
       "    </tr>\n",
       "    <tr>\n",
       "      <th>2</th>\n",
       "      <td>22</td>\n",
       "      <td>25.609262</td>\n",
       "    </tr>\n",
       "    <tr>\n",
       "      <th>3</th>\n",
       "      <td>20</td>\n",
       "      <td>17.857388</td>\n",
       "    </tr>\n",
       "    <tr>\n",
       "      <th>4</th>\n",
       "      <td>36</td>\n",
       "      <td>41.849864</td>\n",
       "    </tr>\n",
       "    <tr>\n",
       "      <th>...</th>\n",
       "      <td>...</td>\n",
       "      <td>...</td>\n",
       "    </tr>\n",
       "    <tr>\n",
       "      <th>295</th>\n",
       "      <td>71</td>\n",
       "      <td>68.545888</td>\n",
       "    </tr>\n",
       "    <tr>\n",
       "      <th>296</th>\n",
       "      <td>46</td>\n",
       "      <td>47.334876</td>\n",
       "    </tr>\n",
       "    <tr>\n",
       "      <th>297</th>\n",
       "      <td>55</td>\n",
       "      <td>54.090637</td>\n",
       "    </tr>\n",
       "    <tr>\n",
       "      <th>298</th>\n",
       "      <td>62</td>\n",
       "      <td>63.297171</td>\n",
       "    </tr>\n",
       "    <tr>\n",
       "      <th>299</th>\n",
       "      <td>47</td>\n",
       "      <td>52.459467</td>\n",
       "    </tr>\n",
       "  </tbody>\n",
       "</table>\n",
       "<p>300 rows × 2 columns</p>\n",
       "</div>"
      ],
      "text/plain": [
       "      x          y\n",
       "0    77  79.775152\n",
       "1    21  23.177279\n",
       "2    22  25.609262\n",
       "3    20  17.857388\n",
       "4    36  41.849864\n",
       "..   ..        ...\n",
       "295  71  68.545888\n",
       "296  46  47.334876\n",
       "297  55  54.090637\n",
       "298  62  63.297171\n",
       "299  47  52.459467\n",
       "\n",
       "[300 rows x 2 columns]"
      ]
     },
     "execution_count": 25,
     "metadata": {},
     "output_type": "execute_result"
    }
   ],
   "source": [
    "df_test\n",
    "#print(df_test)\n",
    "#df_test.head(300)  #it return data from index 0 to 299."
   ]
  },
  {
   "cell_type": "code",
   "execution_count": 26,
   "id": "27be81ee",
   "metadata": {},
   "outputs": [
    {
     "data": {
      "text/plain": [
       "Index(['x', 'y'], dtype='object')"
      ]
     },
     "execution_count": 26,
     "metadata": {},
     "output_type": "execute_result"
    }
   ],
   "source": [
    "df_test.columns"
   ]
  },
  {
   "cell_type": "code",
   "execution_count": 27,
   "id": "657ba094",
   "metadata": {},
   "outputs": [
    {
     "name": "stdout",
     "output_type": "stream",
     "text": [
      "Zeros in x is: 3\n",
      "Zeros in y is: 0\n"
     ]
    }
   ],
   "source": [
    "# Finding number of zeroes in all columns\n",
    "for column_name in df_test.columns:\n",
    "    column = df_test[column_name]\n",
    "    # counting zeros in column\n",
    "    count = (column == 0).sum()\n",
    "    print('Zeros in', column_name, 'is:', count)"
   ]
  },
  {
   "cell_type": "code",
   "execution_count": 28,
   "id": "a6eab930",
   "metadata": {},
   "outputs": [
    {
     "name": "stdout",
     "output_type": "stream",
     "text": [
      "Count of NaN in column  x  is :  0\n",
      "Count of NaN in column  y  is :  0\n"
     ]
    }
   ],
   "source": [
    "# Count number of nan in all columns of Dataframe\n",
    "for column_name in df_test.columns:\n",
    "    column = df_test[column_name]\n",
    "    # Get the count of nan in column\n",
    "    count = sum(pd.isnull(column))\n",
    "    print('Count of NaN in column ', column_name, ' is : ', count)"
   ]
  },
  {
   "cell_type": "code",
   "execution_count": 29,
   "id": "c3e56440",
   "metadata": {},
   "outputs": [
    {
     "data": {
      "text/html": [
       "<div>\n",
       "<style scoped>\n",
       "    .dataframe tbody tr th:only-of-type {\n",
       "        vertical-align: middle;\n",
       "    }\n",
       "\n",
       "    .dataframe tbody tr th {\n",
       "        vertical-align: top;\n",
       "    }\n",
       "\n",
       "    .dataframe thead th {\n",
       "        text-align: right;\n",
       "    }\n",
       "</style>\n",
       "<table border=\"1\" class=\"dataframe\">\n",
       "  <thead>\n",
       "    <tr style=\"text-align: right;\">\n",
       "      <th></th>\n",
       "      <th>x</th>\n",
       "      <th>y</th>\n",
       "    </tr>\n",
       "  </thead>\n",
       "  <tbody>\n",
       "    <tr>\n",
       "      <th>0</th>\n",
       "      <td>77</td>\n",
       "      <td>79.775152</td>\n",
       "    </tr>\n",
       "    <tr>\n",
       "      <th>1</th>\n",
       "      <td>21</td>\n",
       "      <td>23.177279</td>\n",
       "    </tr>\n",
       "    <tr>\n",
       "      <th>2</th>\n",
       "      <td>22</td>\n",
       "      <td>25.609262</td>\n",
       "    </tr>\n",
       "    <tr>\n",
       "      <th>3</th>\n",
       "      <td>20</td>\n",
       "      <td>17.857388</td>\n",
       "    </tr>\n",
       "    <tr>\n",
       "      <th>4</th>\n",
       "      <td>36</td>\n",
       "      <td>41.849864</td>\n",
       "    </tr>\n",
       "    <tr>\n",
       "      <th>...</th>\n",
       "      <td>...</td>\n",
       "      <td>...</td>\n",
       "    </tr>\n",
       "    <tr>\n",
       "      <th>295</th>\n",
       "      <td>71</td>\n",
       "      <td>68.545888</td>\n",
       "    </tr>\n",
       "    <tr>\n",
       "      <th>296</th>\n",
       "      <td>46</td>\n",
       "      <td>47.334876</td>\n",
       "    </tr>\n",
       "    <tr>\n",
       "      <th>297</th>\n",
       "      <td>55</td>\n",
       "      <td>54.090637</td>\n",
       "    </tr>\n",
       "    <tr>\n",
       "      <th>298</th>\n",
       "      <td>62</td>\n",
       "      <td>63.297171</td>\n",
       "    </tr>\n",
       "    <tr>\n",
       "      <th>299</th>\n",
       "      <td>47</td>\n",
       "      <td>52.459467</td>\n",
       "    </tr>\n",
       "  </tbody>\n",
       "</table>\n",
       "<p>300 rows × 2 columns</p>\n",
       "</div>"
      ],
      "text/plain": [
       "      x          y\n",
       "0    77  79.775152\n",
       "1    21  23.177279\n",
       "2    22  25.609262\n",
       "3    20  17.857388\n",
       "4    36  41.849864\n",
       "..   ..        ...\n",
       "295  71  68.545888\n",
       "296  46  47.334876\n",
       "297  55  54.090637\n",
       "298  62  63.297171\n",
       "299  47  52.459467\n",
       "\n",
       "[300 rows x 2 columns]"
      ]
     },
     "execution_count": 29,
     "metadata": {},
     "output_type": "execute_result"
    }
   ],
   "source": [
    "df_test"
   ]
  },
  {
   "cell_type": "code",
   "execution_count": 30,
   "id": "698e3e10",
   "metadata": {},
   "outputs": [],
   "source": [
    "# Drop rows where either x or y column has a zero\n",
    "# df_dropped = df_test[(df_test['x'] != 0) & (df_test['y'] != 0)]\n",
    "\n",
    "# print(df_dropped)\n",
    "# print(df_dropped.shape)"
   ]
  },
  {
   "cell_type": "code",
   "execution_count": 31,
   "id": "1bfcd677",
   "metadata": {},
   "outputs": [
    {
     "name": "stdout",
     "output_type": "stream",
     "text": [
      "(300, 2)\n"
     ]
    }
   ],
   "source": [
    "# drop row if missing value present in that row\n",
    "df_dropped = df_test.dropna()\n",
    "print(df_dropped.shape)"
   ]
  },
  {
   "cell_type": "code",
   "execution_count": 32,
   "id": "7e647e27",
   "metadata": {},
   "outputs": [
    {
     "name": "stdout",
     "output_type": "stream",
     "text": [
      "0      77\n",
      "1      21\n",
      "2      22\n",
      "3      20\n",
      "4      36\n",
      "       ..\n",
      "295    71\n",
      "296    46\n",
      "297    55\n",
      "298    62\n",
      "299    47\n",
      "Name: x, Length: 300, dtype: int64\n"
     ]
    }
   ],
   "source": [
    "print(df_dropped.iloc[:, 0])"
   ]
  },
  {
   "cell_type": "code",
   "execution_count": 33,
   "id": "882de209",
   "metadata": {},
   "outputs": [
    {
     "name": "stdout",
     "output_type": "stream",
     "text": [
      "        x         y\n",
      "0    0.77  0.763279\n",
      "1    0.21  0.244317\n",
      "2    0.22  0.266617\n",
      "3    0.20  0.195538\n",
      "4    0.36  0.415531\n",
      "..    ...       ...\n",
      "295  0.71  0.660315\n",
      "296  0.46  0.465825\n",
      "297  0.55  0.527771\n",
      "298  0.62  0.612188\n",
      "299  0.47  0.512814\n",
      "\n",
      "[300 rows x 2 columns]\n"
     ]
    }
   ],
   "source": [
    "# copy the data\n",
    "df_min_max_scaled_test = df_dropped.copy()\n",
    "\n",
    "# apply normalization techniques\n",
    "for column in df_dropped.columns:\n",
    "    df_min_max_scaled_test[column] = (df_min_max_scaled_test[column] - df_min_max_scaled_test[column].min()) / (df_min_max_scaled_test[column].max() - df_min_max_scaled_test[column].min())\n",
    "\n",
    "# view normalized data\n",
    "print(df_min_max_scaled_test)"
   ]
  },
  {
   "cell_type": "code",
   "execution_count": 34,
   "id": "a997394e",
   "metadata": {},
   "outputs": [],
   "source": [
    "def hypothes(theta_f, x):\n",
    "    return theta_f[0] + theta_f[1]*x"
   ]
  },
  {
   "cell_type": "code",
   "execution_count": 35,
   "id": "35aa5ebc",
   "metadata": {},
   "outputs": [
    {
     "name": "stdout",
     "output_type": "stream",
     "text": [
      "x\n"
     ]
    }
   ],
   "source": [
    "print(df_min_max_scaled_test.columns[0])"
   ]
  },
  {
   "cell_type": "code",
   "execution_count": 36,
   "id": "5261bd47",
   "metadata": {},
   "outputs": [
    {
     "name": "stdout",
     "output_type": "stream",
     "text": [
      "0      0.718536\n",
      "1      0.226884\n",
      "2      0.235664\n",
      "3      0.218105\n",
      "4      0.358577\n",
      "         ...   \n",
      "295    0.665859\n",
      "296    0.446372\n",
      "297    0.525387\n",
      "298    0.586844\n",
      "299    0.455151\n",
      "Name: x, Length: 300, dtype: float64\n"
     ]
    }
   ],
   "source": [
    "y_predict_test = hypothes(theta_f, df_min_max_scaled_test.iloc[:, 0])\n",
    "print(y_predict_test)"
   ]
  },
  {
   "cell_type": "code",
   "execution_count": 37,
   "id": "0b25720a",
   "metadata": {},
   "outputs": [],
   "source": [
    "# %matplotlib inline\n",
    "# import matplotlib.pyplot as plt\n",
    "# plt.figure()\n",
    "# plt.scatter(df_min_max_scaled_test.iloc[:, 0], df_min_max_scaled_test.iloc[:, 1], label = 'Original y')\n",
    "# plt.scatter(df_min_max_scaled_test.iloc[:, 0], y_predict_test, label = 'predicted y')\n",
    "# plt.legend(loc = \"upper left\")\n",
    "# plt.xlabel(\"input feature\")\n",
    "# plt.ylabel(\"Original and Predicted Output\")\n",
    "# plt.title(\"Testing\")\n",
    "# plt.show()"
   ]
  },
  {
   "cell_type": "code",
   "execution_count": 38,
   "id": "df5e767a",
   "metadata": {},
   "outputs": [],
   "source": [
    "def r_squared(y_true, y_pred):\n",
    "    y_mean = np.mean(y_true)\n",
    "    ss_total = np.sum((y_true - y_mean)**2)\n",
    "    ss_residual = np.sum((y_true - y_pred)**2)\n",
    "    r2 = 1 - (ss_residual / ss_total)\n",
    "    return r2"
   ]
  },
  {
   "cell_type": "code",
   "execution_count": 39,
   "id": "95a88a31",
   "metadata": {},
   "outputs": [
    {
     "name": "stdout",
     "output_type": "stream",
     "text": [
      "R-squared: 0.9841142967378815\n"
     ]
    }
   ],
   "source": [
    "r2_score = r_squared(df_min_max_scaled_test.iloc[:, 1], y_predict_test)\n",
    "print(\"R-squared:\", r2_score)"
   ]
  },
  {
   "cell_type": "code",
   "execution_count": null,
   "id": "03901c94",
   "metadata": {},
   "outputs": [],
   "source": []
  }
 ],
 "metadata": {
  "kernelspec": {
   "display_name": "Python 3 (ipykernel)",
   "language": "python",
   "name": "python3"
  },
  "language_info": {
   "codemirror_mode": {
    "name": "ipython",
    "version": 3
   },
   "file_extension": ".py",
   "mimetype": "text/x-python",
   "name": "python",
   "nbconvert_exporter": "python",
   "pygments_lexer": "ipython3",
   "version": "3.10.9"
  }
 },
 "nbformat": 4,
 "nbformat_minor": 5
}
